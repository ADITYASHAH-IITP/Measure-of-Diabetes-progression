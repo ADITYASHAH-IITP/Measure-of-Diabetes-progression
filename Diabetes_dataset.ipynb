{
  "nbformat": 4,
  "nbformat_minor": 0,
  "metadata": {
    "colab": {
      "name": "Diabetes dataset.ipynb",
      "provenance": [],
      "authorship_tag": "ABX9TyPKQcYWcJ2CzVwhwrp+Y3Q9",
      "include_colab_link": true
    },
    "kernelspec": {
      "name": "python3",
      "display_name": "Python 3"
    },
    "language_info": {
      "name": "python"
    }
  },
  "cells": [
    {
      "cell_type": "markdown",
      "metadata": {
        "id": "view-in-github",
        "colab_type": "text"
      },
      "source": [
        "<a href=\"https://colab.research.google.com/github/ADITYASHAH-IITP/Measure-of-Diabetes-progression/blob/main/Diabetes_dataset.ipynb\" target=\"_parent\"><img src=\"https://colab.research.google.com/assets/colab-badge.svg\" alt=\"Open In Colab\"/></a>"
      ]
    },
    {
      "cell_type": "code",
      "execution_count": 1,
      "metadata": {
        "id": "MfiPhSTP0v-J"
      },
      "outputs": [],
      "source": [
        "import tensorflow as tf"
      ]
    },
    {
      "cell_type": "code",
      "source": [
        "print(tf.__version__)"
      ],
      "metadata": {
        "colab": {
          "base_uri": "https://localhost:8080/"
        },
        "id": "uDvUpca-04WF",
        "outputId": "ec348cd6-ee43-40b2-f42e-42d232c7659d"
      },
      "execution_count": 2,
      "outputs": [
        {
          "output_type": "stream",
          "name": "stdout",
          "text": [
            "2.7.0\n"
          ]
        }
      ]
    },
    {
      "cell_type": "code",
      "source": [
        "from sklearn.datasets import load_diabetes\n",
        "diabetes_dataset=load_diabetes() \n",
        "print(diabetes_dataset[\"DESCR\"])"
      ],
      "metadata": {
        "colab": {
          "base_uri": "https://localhost:8080/"
        },
        "id": "2QUuwK5b063l",
        "outputId": "fa8a17d8-da2f-4f7a-e8c4-75fb39cf2f06"
      },
      "execution_count": 3,
      "outputs": [
        {
          "output_type": "stream",
          "name": "stdout",
          "text": [
            ".. _diabetes_dataset:\n",
            "\n",
            "Diabetes dataset\n",
            "----------------\n",
            "\n",
            "Ten baseline variables, age, sex, body mass index, average blood\n",
            "pressure, and six blood serum measurements were obtained for each of n =\n",
            "442 diabetes patients, as well as the response of interest, a\n",
            "quantitative measure of disease progression one year after baseline.\n",
            "\n",
            "**Data Set Characteristics:**\n",
            "\n",
            "  :Number of Instances: 442\n",
            "\n",
            "  :Number of Attributes: First 10 columns are numeric predictive values\n",
            "\n",
            "  :Target: Column 11 is a quantitative measure of disease progression one year after baseline\n",
            "\n",
            "  :Attribute Information:\n",
            "      - age     age in years\n",
            "      - sex\n",
            "      - bmi     body mass index\n",
            "      - bp      average blood pressure\n",
            "      - s1      tc, total serum cholesterol\n",
            "      - s2      ldl, low-density lipoproteins\n",
            "      - s3      hdl, high-density lipoproteins\n",
            "      - s4      tch, total cholesterol / HDL\n",
            "      - s5      ltg, possibly log of serum triglycerides level\n",
            "      - s6      glu, blood sugar level\n",
            "\n",
            "Note: Each of these 10 feature variables have been mean centered and scaled by the standard deviation times `n_samples` (i.e. the sum of squares of each column totals 1).\n",
            "\n",
            "Source URL:\n",
            "https://www4.stat.ncsu.edu/~boos/var.select/diabetes.html\n",
            "\n",
            "For more information see:\n",
            "Bradley Efron, Trevor Hastie, Iain Johnstone and Robert Tibshirani (2004) \"Least Angle Regression,\" Annals of Statistics (with discussion), 407-499.\n",
            "(https://web.stanford.edu/~hastie/Papers/LARS/LeastAngle_2002.pdf)\n"
          ]
        }
      ]
    },
    {
      "cell_type": "code",
      "source": [
        ""
      ],
      "metadata": {
        "id": "WLpo1efG3Fhk"
      },
      "execution_count": null,
      "outputs": []
    },
    {
      "cell_type": "code",
      "source": [
        "print(diabetes_dataset.keys())"
      ],
      "metadata": {
        "colab": {
          "base_uri": "https://localhost:8080/"
        },
        "id": "pYXziW491WRT",
        "outputId": "6cfcfc09-3649-4430-bcb0-39d1de65a961"
      },
      "execution_count": 5,
      "outputs": [
        {
          "output_type": "stream",
          "name": "stdout",
          "text": [
            "dict_keys(['data', 'target', 'frame', 'DESCR', 'feature_names', 'data_filename', 'target_filename', 'data_module'])\n"
          ]
        }
      ]
    },
    {
      "cell_type": "code",
      "source": [
        "data=diabetes_dataset[\"data\"]\n",
        "targets=diabetes_dataset[\"target\"]"
      ],
      "metadata": {
        "id": "iMcW_5dP1vQl"
      },
      "execution_count": 34,
      "outputs": []
    },
    {
      "cell_type": "code",
      "source": [
        "targets\n"
      ],
      "metadata": {
        "colab": {
          "base_uri": "https://localhost:8080/"
        },
        "id": "WyveuFOsjVD_",
        "outputId": "524d6092-5a90-4bd3-baa9-ce3145f3972f"
      },
      "execution_count": 35,
      "outputs": [
        {
          "output_type": "execute_result",
          "data": {
            "text/plain": [
              "array([151.,  75., 141., 206., 135.,  97., 138.,  63., 110., 310., 101.,\n",
              "        69., 179., 185., 118., 171., 166., 144.,  97., 168.,  68.,  49.,\n",
              "        68., 245., 184., 202., 137.,  85., 131., 283., 129.,  59., 341.,\n",
              "        87.,  65., 102., 265., 276., 252.,  90., 100.,  55.,  61.,  92.,\n",
              "       259.,  53., 190., 142.,  75., 142., 155., 225.,  59., 104., 182.,\n",
              "       128.,  52.,  37., 170., 170.,  61., 144.,  52., 128.,  71., 163.,\n",
              "       150.,  97., 160., 178.,  48., 270., 202., 111.,  85.,  42., 170.,\n",
              "       200., 252., 113., 143.,  51.,  52., 210.,  65., 141.,  55., 134.,\n",
              "        42., 111.,  98., 164.,  48.,  96.,  90., 162., 150., 279.,  92.,\n",
              "        83., 128., 102., 302., 198.,  95.,  53., 134., 144., 232.,  81.,\n",
              "       104.,  59., 246., 297., 258., 229., 275., 281., 179., 200., 200.,\n",
              "       173., 180.,  84., 121., 161.,  99., 109., 115., 268., 274., 158.,\n",
              "       107.,  83., 103., 272.,  85., 280., 336., 281., 118., 317., 235.,\n",
              "        60., 174., 259., 178., 128.,  96., 126., 288.,  88., 292.,  71.,\n",
              "       197., 186.,  25.,  84.,  96., 195.,  53., 217., 172., 131., 214.,\n",
              "        59.,  70., 220., 268., 152.,  47.,  74., 295., 101., 151., 127.,\n",
              "       237., 225.,  81., 151., 107.,  64., 138., 185., 265., 101., 137.,\n",
              "       143., 141.,  79., 292., 178.,  91., 116.,  86., 122.,  72., 129.,\n",
              "       142.,  90., 158.,  39., 196., 222., 277.,  99., 196., 202., 155.,\n",
              "        77., 191.,  70.,  73.,  49.,  65., 263., 248., 296., 214., 185.,\n",
              "        78.,  93., 252., 150.,  77., 208.,  77., 108., 160.,  53., 220.,\n",
              "       154., 259.,  90., 246., 124.,  67.,  72., 257., 262., 275., 177.,\n",
              "        71.,  47., 187., 125.,  78.,  51., 258., 215., 303., 243.,  91.,\n",
              "       150., 310., 153., 346.,  63.,  89.,  50.,  39., 103., 308., 116.,\n",
              "       145.,  74.,  45., 115., 264.,  87., 202., 127., 182., 241.,  66.,\n",
              "        94., 283.,  64., 102., 200., 265.,  94., 230., 181., 156., 233.,\n",
              "        60., 219.,  80.,  68., 332., 248.,  84., 200.,  55.,  85.,  89.,\n",
              "        31., 129.,  83., 275.,  65., 198., 236., 253., 124.,  44., 172.,\n",
              "       114., 142., 109., 180., 144., 163., 147.,  97., 220., 190., 109.,\n",
              "       191., 122., 230., 242., 248., 249., 192., 131., 237.,  78., 135.,\n",
              "       244., 199., 270., 164.,  72.,  96., 306.,  91., 214.,  95., 216.,\n",
              "       263., 178., 113., 200., 139., 139.,  88., 148.,  88., 243.,  71.,\n",
              "        77., 109., 272.,  60.,  54., 221.,  90., 311., 281., 182., 321.,\n",
              "        58., 262., 206., 233., 242., 123., 167.,  63., 197.,  71., 168.,\n",
              "       140., 217., 121., 235., 245.,  40.,  52., 104., 132.,  88.,  69.,\n",
              "       219.,  72., 201., 110.,  51., 277.,  63., 118.,  69., 273., 258.,\n",
              "        43., 198., 242., 232., 175.,  93., 168., 275., 293., 281.,  72.,\n",
              "       140., 189., 181., 209., 136., 261., 113., 131., 174., 257.,  55.,\n",
              "        84.,  42., 146., 212., 233.,  91., 111., 152., 120.,  67., 310.,\n",
              "        94., 183.,  66., 173.,  72.,  49.,  64.,  48., 178., 104., 132.,\n",
              "       220.,  57.])"
            ]
          },
          "metadata": {},
          "execution_count": 35
        }
      ]
    },
    {
      "cell_type": "code",
      "source": [
        "targets=(targets-targets.mean(axis=0))/targets.std()"
      ],
      "metadata": {
        "id": "o5TSDjgQ15Oj"
      },
      "execution_count": 36,
      "outputs": []
    },
    {
      "cell_type": "code",
      "source": [
        "from sklearn.model_selection import train_test_split\n",
        "train_data,test_data,train_targets,test_targets=train_test_split(data,targets,test_size=0.1)\n",
        "print(train_data.shape)\n",
        "print(test_data.shape)\n",
        "print(train_targets.shape)\n",
        "print(test_targets.shape)"
      ],
      "metadata": {
        "colab": {
          "base_uri": "https://localhost:8080/"
        },
        "id": "HRi-nC_72NeO",
        "outputId": "3b0d5a1c-13a6-46e9-e407-cb9728decf72"
      },
      "execution_count": 6,
      "outputs": [
        {
          "output_type": "stream",
          "name": "stdout",
          "text": [
            "(397, 10)\n",
            "(45, 10)\n",
            "(397,)\n",
            "(397,)\n"
          ]
        }
      ]
    },
    {
      "cell_type": "code",
      "source": [
        "print(test_targets)"
      ],
      "metadata": {
        "colab": {
          "base_uri": "https://localhost:8080/"
        },
        "id": "9PsZh2JHg3vR",
        "outputId": "5e446c08-3dc3-4799-931c-1879449cdfa5"
      },
      "execution_count": 33,
      "outputs": [
        {
          "output_type": "stream",
          "name": "stdout",
          "text": [
            "[-0.01471948  0.3618758  -1.27436574  2.02408942 -0.14457991  1.011178\n",
            "  1.03715008  0.62159668 -0.4952031   1.55659184  1.20596866 -0.84582629\n",
            "  2.05006151 -0.26145431  0.64756877 -0.09263574  0.81638734  1.46568953\n",
            "  1.53061975  1.50464767 -1.31332387  1.81631272  0.10215492  1.58256393\n",
            " -0.22249618  0.94624778 -0.89777046 -0.50818915 -1.05360299 -0.32638453\n",
            "  0.59562459 -0.88478442 -0.01471948 -0.14457991 -0.68999376 -1.28735178\n",
            " -1.06658903 -0.50818915  0.1540991  -1.19644947  0.40083393  1.53061975\n",
            " -0.96270068  2.06304756  1.36180118]\n"
          ]
        }
      ]
    },
    {
      "cell_type": "markdown",
      "source": [
        "Callbacks"
      ],
      "metadata": {
        "id": "6kYuHPqhLX02"
      }
    },
    {
      "cell_type": "code",
      "source": [
        "from tensorflow.keras.callbacks import Callback\n",
        "\n",
        "class TrainingCallback(Callback):\n",
        "  def on_train_begin(self,logs=None):\n",
        "    print(\"Starting training...\")\n",
        "\n",
        "  def on_train_begin(self,logs=None):\n",
        "    print(\"Starting training...\")\n",
        "\n",
        "  def on_epoch_begin(self,epoch,logs=None):\n",
        "    print(f\"Starting epoch{epoch}...\")\n",
        "\n",
        "  def on_train_batch_begin(self,batch,logs=None):\n",
        "    print(f\"Starting Batch training {batch}...\")       \n",
        "    \n",
        "  def on_train_batch_end(self,batch,logs=None):\n",
        "    print(\"End of batch training{batch}...\")\n",
        "\n",
        "  def on_epoch_begin(self,epoch,logs=None):\n",
        "    print(f\"End of Batch training {epoch}...\")     \n",
        "\n",
        "  def on_train_end(self,logs=None):\n",
        "    print(\"Finished training...\")       "
      ],
      "metadata": {
        "id": "1uqDn8qWLWmR"
      },
      "execution_count": 42,
      "outputs": []
    },
    {
      "cell_type": "code",
      "source": [
        "from tensorflow.keras.callbacks import Callback\n",
        "\n",
        "class TestingCallback(Callback):\n",
        "  def on_test_begin(self,logs=None):\n",
        "    print(\"Starting testing...\")\n",
        "\n",
        "  def on_test_begin(self,logs=None):\n",
        "    print(\"Starting testing...\")\n",
        "\n",
        "\n",
        "\n",
        "  def on_test_batch_begin(self,batch,logs=None):\n",
        "    print(f\"Starting Batch testing {batch}...\")       \n",
        "    \n",
        "  def on_test_batch_end(self,batch,logs=None):\n",
        "    print(\"End of batch testing{batch}...\")\n",
        "\n",
        "\n",
        "  def on_test_end(self,logs=None):\n",
        "    print(\"Finished testing...\")     "
      ],
      "metadata": {
        "id": "WXA93jgVOntI"
      },
      "execution_count": 44,
      "outputs": []
    },
    {
      "cell_type": "code",
      "source": [
        "from tensorflow.keras.callbacks import Callback\n",
        "\n",
        "class PredictionCallback(Callback):\n",
        "  def on_predict_begin(self,logs=None):\n",
        "    print(\"Starting predict...\")\n",
        "\n",
        "  def on_predict_begin(self,logs=None):\n",
        "    print(\"Starting predict...\")\n",
        "\n",
        "\n",
        "\n",
        "  def on_predict_batch_begin(self,batch,logs=None):\n",
        "    print(f\"Starting Batch predict {batch}...\")       \n",
        "    \n",
        "  def on_predict_batch_end(self,batch,logs=None):\n",
        "    print(\"End of batch predict{batch}...\")\n",
        "\n",
        "\n",
        "  def on_predict_end(self,logs=None):\n",
        "    print(\"Finished predict...\")   "
      ],
      "metadata": {
        "id": "XdtcxEAvOn2l"
      },
      "execution_count": 45,
      "outputs": []
    },
    {
      "cell_type": "markdown",
      "source": [
        "Build Model"
      ],
      "metadata": {
        "id": "XjxyymaT3HE0"
      }
    },
    {
      "cell_type": "code",
      "source": [
        "from tensorflow.keras.models  import Sequential\n",
        "from tensorflow.keras.layers import Dense,Flatten,Softmax,Conv2D,MaxPooling2D,Dropout\n",
        "from tensorflow.keras import regularizers"
      ],
      "metadata": {
        "id": "vOIIfDeN3IAU"
      },
      "execution_count": 7,
      "outputs": []
    },
    {
      "cell_type": "code",
      "source": [
        "def get_regularised_model(wd,rate):\n",
        "  model=Sequential([\n",
        "                    Dense(128,kernel_regularizer=regularizers.l2(wd),activation='relu',input_shape=(train_data.shape[1],)),\n",
        "                    Dropout(rate),\n",
        "                    Dense(128,kernel_regularizer=regularizers.l2(wd),activation='relu'),\n",
        "                    Dropout(rate),\n",
        "                    Dense(128,kernel_regularizer=regularizers.l2(wd),activation='relu'),\n",
        "                    Dropout(rate),\n",
        "                    \n",
        "                    Dense(128,kernel_regularizer=regularizers.l2(wd),activation='relu'),\n",
        "                    Dense(1)\n",
        "  ])\n",
        "  return model\n",
        "model=get_regularised_model(1e-6,0.56)"
      ],
      "metadata": {
        "id": "xzTXKyrAEibU"
      },
      "execution_count": 44,
      "outputs": []
    },
    {
      "cell_type": "code",
      "source": [
        "def getmodel():\n",
        "  model=Sequential([\n",
        "                    Dense(128,activation='relu',input_shape=(train_data.shape[1],)),\n",
        "                    Dense(128,activation='relu'),\n",
        "                    Dense(128,activation='relu'),\n",
        "                    \n",
        "                    Dense(128,activation='relu'),\n",
        "                    Dense(1)\n",
        "  ])\n",
        "  return model\n",
        "model=getmodel()"
      ],
      "metadata": {
        "id": "kStgJASf3TRa"
      },
      "execution_count": 46,
      "outputs": []
    },
    {
      "cell_type": "code",
      "source": [
        "model.summary()"
      ],
      "metadata": {
        "colab": {
          "base_uri": "https://localhost:8080/"
        },
        "id": "-Nm8m_kp4mZZ",
        "outputId": "c2629dfc-5450-4284-b934-15eeb7824619"
      },
      "execution_count": 14,
      "outputs": [
        {
          "output_type": "stream",
          "name": "stdout",
          "text": [
            "Model: \"sequential_1\"\n",
            "_________________________________________________________________\n",
            " Layer (type)                Output Shape              Param #   \n",
            "=================================================================\n",
            " dense_7 (Dense)             (None, 128)               1408      \n",
            "                                                                 \n",
            " dense_8 (Dense)             (None, 128)               16512     \n",
            "                                                                 \n",
            " dense_9 (Dense)             (None, 128)               16512     \n",
            "                                                                 \n",
            " dense_10 (Dense)            (None, 128)               16512     \n",
            "                                                                 \n",
            " dense_11 (Dense)            (None, 128)               16512     \n",
            "                                                                 \n",
            " dense_12 (Dense)            (None, 128)               16512     \n",
            "                                                                 \n",
            " dense_13 (Dense)            (None, 1)                 129       \n",
            "                                                                 \n",
            "=================================================================\n",
            "Total params: 84,097\n",
            "Trainable params: 84,097\n",
            "Non-trainable params: 0\n",
            "_________________________________________________________________\n"
          ]
        }
      ]
    },
    {
      "cell_type": "code",
      "source": [
        "model.compile(optimizer=\"adam\",loss=\"mse\",metrics=[\"mae\"])"
      ],
      "metadata": {
        "id": "xKYjiVhG4rDI"
      },
      "execution_count": 46,
      "outputs": []
    },
    {
      "cell_type": "code",
      "source": [
        "history=model.fit(train_data,train_targets,epochs=3,batch_size=128,validation_split=0.15,verbose=False,callbacks=[TrainingCallback()])"
      ],
      "metadata": {
        "colab": {
          "base_uri": "https://localhost:8080/"
        },
        "id": "2GkZ8jVO461b",
        "outputId": "7a5b9ae6-3c7c-4126-b0e9-e651771fa4f6"
      },
      "execution_count": 43,
      "outputs": [
        {
          "output_type": "stream",
          "name": "stdout",
          "text": [
            "Starting training...\n",
            "End of Batch training 0...\n",
            "Starting Batch training 0...\n",
            "End of batch training{batch}...\n",
            "Starting Batch training 1...\n",
            "End of batch training{batch}...\n",
            "Starting Batch training 2...\n",
            "End of batch training{batch}...\n",
            "End of Batch training 1...\n",
            "Starting Batch training 0...\n",
            "End of batch training{batch}...\n",
            "Starting Batch training 1...\n",
            "End of batch training{batch}...\n",
            "Starting Batch training 2...\n",
            "End of batch training{batch}...\n",
            "End of Batch training 2...\n",
            "Starting Batch training 0...\n",
            "End of batch training{batch}...\n",
            "Starting Batch training 1...\n",
            "End of batch training{batch}...\n",
            "Starting Batch training 2...\n",
            "End of batch training{batch}...\n",
            "Finished training...\n"
          ]
        }
      ]
    },
    {
      "cell_type": "code",
      "source": [
        ""
      ],
      "metadata": {
        "id": "zT0TGt8ePN_g"
      },
      "execution_count": null,
      "outputs": []
    },
    {
      "cell_type": "code",
      "source": [
        ""
      ],
      "metadata": {
        "id": "F8aNzWhiPOEj"
      },
      "execution_count": null,
      "outputs": []
    },
    {
      "cell_type": "code",
      "source": [
        "model.evaluate(test_data,test_targets,verbose=2)"
      ],
      "metadata": {
        "colab": {
          "base_uri": "https://localhost:8080/"
        },
        "id": "YtOgW4yc5Orj",
        "outputId": "a5b5c63c-ead6-471e-ace5-b063f0426595"
      },
      "execution_count": 34,
      "outputs": [
        {
          "output_type": "stream",
          "name": "stdout",
          "text": [
            "2/2 - 0s - loss: 0.3822 - mae: 0.5185 - 20ms/epoch - 10ms/step\n"
          ]
        },
        {
          "output_type": "execute_result",
          "data": {
            "text/plain": [
              "[0.3822028338909149, 0.5185195207595825]"
            ]
          },
          "metadata": {},
          "execution_count": 34
        }
      ]
    },
    {
      "cell_type": "code",
      "source": [
        "model.evaluate(test_data,test_targets,verbose=False,callbacks=[TestingCallback()])"
      ],
      "metadata": {
        "colab": {
          "base_uri": "https://localhost:8080/"
        },
        "id": "l9n1yUBXPPaW",
        "outputId": "939ebe92-783b-4ed1-aa50-2583bf1c46ca"
      },
      "execution_count": 48,
      "outputs": [
        {
          "output_type": "stream",
          "name": "stdout",
          "text": [
            "Starting testing...\n",
            "Starting Batch testing 0...\n",
            "End of batch testing{batch}...\n",
            "Starting Batch testing 1...\n",
            "End of batch testing{batch}...\n",
            "Finished testing...\n"
          ]
        },
        {
          "output_type": "execute_result",
          "data": {
            "text/plain": [
              "[0.8688074946403503, 0.787440836429596]"
            ]
          },
          "metadata": {},
          "execution_count": 48
        }
      ]
    },
    {
      "cell_type": "code",
      "source": [
        "model.predict(test_data,verbose=False,callbacks=[PredictionCallback()])"
      ],
      "metadata": {
        "colab": {
          "base_uri": "https://localhost:8080/"
        },
        "id": "zriC_HwMPcp3",
        "outputId": "e2bd5503-8a83-4200-d5a6-a58a6eabc6c1"
      },
      "execution_count": 49,
      "outputs": [
        {
          "output_type": "stream",
          "name": "stdout",
          "text": [
            "Starting predict...\n",
            "Starting Batch predict 0...\n",
            "End of batch predict{batch}...\n",
            "Starting Batch predict 1...\n",
            "End of batch predict{batch}...\n",
            "Finished predict...\n"
          ]
        },
        {
          "output_type": "execute_result",
          "data": {
            "text/plain": [
              "array([[0.02394536],\n",
              "       [0.02611406],\n",
              "       [0.0314544 ],\n",
              "       [0.02579872],\n",
              "       [0.02634114],\n",
              "       [0.03356683],\n",
              "       [0.02664038],\n",
              "       [0.02798058],\n",
              "       [0.0253697 ],\n",
              "       [0.02916073],\n",
              "       [0.03081506],\n",
              "       [0.0305932 ],\n",
              "       [0.0314163 ],\n",
              "       [0.02677316],\n",
              "       [0.02040855],\n",
              "       [0.02965745],\n",
              "       [0.03110197],\n",
              "       [0.02528995],\n",
              "       [0.02778071],\n",
              "       [0.03243035],\n",
              "       [0.02704193],\n",
              "       [0.02580317],\n",
              "       [0.02730309],\n",
              "       [0.02539958],\n",
              "       [0.02726768],\n",
              "       [0.02945923],\n",
              "       [0.02893423],\n",
              "       [0.0299076 ],\n",
              "       [0.02833239],\n",
              "       [0.03001698],\n",
              "       [0.03080209],\n",
              "       [0.03257049],\n",
              "       [0.03113746],\n",
              "       [0.02522583],\n",
              "       [0.02650622],\n",
              "       [0.02724263],\n",
              "       [0.03183592],\n",
              "       [0.02893299],\n",
              "       [0.03182098],\n",
              "       [0.02986338],\n",
              "       [0.02690372],\n",
              "       [0.02746176],\n",
              "       [0.03071503],\n",
              "       [0.02621109],\n",
              "       [0.0320631 ]], dtype=float32)"
            ]
          },
          "metadata": {},
          "execution_count": 49
        }
      ]
    },
    {
      "cell_type": "markdown",
      "source": [
        "Early Stopping/Patience"
      ],
      "metadata": {
        "id": "p6-GuY5DVymJ"
      }
    },
    {
      "cell_type": "code",
      "source": [
        "unregularized_model=getmodel()\n",
        "unregularized_model.compile(optimizer='adam',loss='mse')\n",
        "unreg_history=unregularized_model.fit(train_data,train_targets,epochs=100,validation_split=0.15,batch_size=64,verbose=False,callbacks=[tf.keras.callbacks.EarlyStopping(patience=2)])\n"
      ],
      "metadata": {
        "id": "zE3USUKbVx0r"
      },
      "execution_count": 47,
      "outputs": []
    },
    {
      "cell_type": "code",
      "source": [
        "unregularized_model.evaluate(test_data,test_targets,verbose=2)"
      ],
      "metadata": {
        "colab": {
          "base_uri": "https://localhost:8080/"
        },
        "id": "d5I9HTKiWdpZ",
        "outputId": "93ee9b0d-76b2-47cc-ed48-87f0c3294eb1"
      },
      "execution_count": 48,
      "outputs": [
        {
          "output_type": "stream",
          "name": "stdout",
          "text": [
            "2/2 - 0s - loss: 0.5885 - 16ms/epoch - 8ms/step\n"
          ]
        },
        {
          "output_type": "execute_result",
          "data": {
            "text/plain": [
              "0.5885471701622009"
            ]
          },
          "metadata": {},
          "execution_count": 48
        }
      ]
    },
    {
      "cell_type": "code",
      "source": [
        "regularized_model= get_regularised_model(1e-8,0.25)\n",
        "regularized_model.compile(optimizer='adam',loss='mse')\n",
        "reg_history=regularized_model.fit(train_data,train_targets,epochs=100,validation_split=0.15,batch_size=64,verbose=False,callbacks=[tf.keras.callbacks.EarlyStopping(patience=2)])"
      ],
      "metadata": {
        "id": "WsDJBtCfXcDC"
      },
      "execution_count": 49,
      "outputs": []
    },
    {
      "cell_type": "code",
      "source": [
        "regularized_model.evaluate(test_data,test_targets,verbose=2)"
      ],
      "metadata": {
        "colab": {
          "base_uri": "https://localhost:8080/"
        },
        "id": "ddyGLp1fXx2Q",
        "outputId": "396d7773-d4ba-4534-fda4-2a238c07c485"
      },
      "execution_count": 50,
      "outputs": [
        {
          "output_type": "stream",
          "name": "stdout",
          "text": [
            "2/2 - 0s - loss: 0.5475 - 16ms/epoch - 8ms/step\n"
          ]
        },
        {
          "output_type": "execute_result",
          "data": {
            "text/plain": [
              "0.5475212335586548"
            ]
          },
          "metadata": {},
          "execution_count": 50
        }
      ]
    },
    {
      "cell_type": "code",
      "source": [
        "import matplotlib.pyplot as plt\n"
      ],
      "metadata": {
        "id": "qB724tds5VkL"
      },
      "execution_count": 19,
      "outputs": []
    },
    {
      "cell_type": "code",
      "source": [
        "fig=plt.figure(figsize=(12,5))\n",
        "fig.add_subplot(121)\n",
        "plt.plot(unreg_history.history['loss'],label='Training')\n",
        "plt.plot(unreg_history.history['val_loss'],label='Validation')\n",
        "plt.legend()\n",
        "plt.title('unreg_history Loss vs Epochs')\n",
        "plt.ylabel('unreg_history Loss')\n",
        "plt.xlabel('unreg_history Epochs')\n",
        "\n",
        "fig.add_subplot(122)\n",
        "plt.plot(reg_history.history['loss'],label='Training')\n",
        "plt.plot(reg_history.history['val_loss'],label='Validation')\n",
        "plt.legend()\n",
        "plt.title('reg_history Loss vs Epochs')\n",
        "plt.ylabel('reg_history Loss')\n",
        "plt.xlabel('reg_history Epochs')\n"
      ],
      "metadata": {
        "colab": {
          "base_uri": "https://localhost:8080/",
          "height": 369
        },
        "id": "ytCBd9fVX9Vo",
        "outputId": "74def0bf-974b-4bdc-ce83-157c59c37308"
      },
      "execution_count": 43,
      "outputs": [
        {
          "output_type": "execute_result",
          "data": {
            "text/plain": [
              "Text(0.5, 0, 'reg_history Epochs')"
            ]
          },
          "metadata": {},
          "execution_count": 43
        },
        {
          "output_type": "display_data",
          "data": {
            "image/png": "[encoded data removed]",
            "text/plain": [
              "<Figure size 864x360 with 2 Axes>"
            ]
          },
          "metadata": {
            "needs_background": "light"
          }
        }
      ]
    },
    {
      "cell_type": "markdown",
      "source": [
        "#Overfitting happening in above case"
      ],
      "metadata": {
        "id": "LNz7RqZ36Lct"
      }
    },
    {
      "cell_type": "code",
      "source": [
        ""
      ],
      "metadata": {
        "id": "1O3dTfBD6BIv"
      },
      "execution_count": null,
      "outputs": []
    }
  ]
}